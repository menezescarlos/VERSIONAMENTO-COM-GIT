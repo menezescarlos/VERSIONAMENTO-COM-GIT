{
 "cells": [
  {
   "cell_type": "markdown",
   "metadata": {},
   "source": [
    "### Desfazendo mudanças de estados"
   ]
  },
  {
   "cell_type": "markdown",
   "metadata": {},
   "source": [
    "Vamos entender como podemos desfazer certas ações dentro do git.\n",
    "Vá até o arquivo \"sobre.html\" e substitua o texto \"Sobre laboratórios\" por \"Sobre laboratórios da pós\" e salve-o.\n",
    "Abra o terminal e digite os comandos abaixo"
   ]
  },
  {
   "cell_type": "markdown",
   "metadata": {},
   "source": [
    "````\n",
    "git status\n",
    "git restore sobre.html\n",
    "git status\n",
    "````"
   ]
  },
  {
   "cell_type": "markdown",
   "metadata": {},
   "source": [
    "Veja que após executar o segundo comando \"git restore\" todas as alterações foram perdidas e seu \"working directory\" voltou ao estado original.\n",
    "Agora refaça a alteração no arquivo, conforme orientado acima, salve o arquivo e execute os comandos abaixo"
   ]
  },
  {
   "cell_type": "markdown",
   "metadata": {},
   "source": [
    "````\n",
    "git status\n",
    "git add sobre.html\n",
    "git status\n",
    "````"
   ]
  },
  {
   "cell_type": "markdown",
   "metadata": {},
   "source": [
    "Nosso arquivo está em \"staging\" agora, pronto para entrar em um commit, mas digamos que cometemos um erro e queremos voltar este arquivo para o \"working directory\", execute o comando abaixo"
   ]
  },
  {
   "cell_type": "markdown",
   "metadata": {},
   "source": [
    "````\n",
    "git restore --staged sobre.html\n",
    "git status\n",
    "````"
   ]
  },
  {
   "cell_type": "markdown",
   "metadata": {},
   "source": [
    "git restore --staged sobre.html\n",
    "git status"
   ]
  }
 ],
 "metadata": {
  "language_info": {
   "name": "python"
  }
 },
 "nbformat": 4,
 "nbformat_minor": 2
}
