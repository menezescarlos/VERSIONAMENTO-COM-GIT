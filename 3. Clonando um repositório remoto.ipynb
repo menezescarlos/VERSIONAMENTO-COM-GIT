{
 "cells": [
  {
   "cell_type": "markdown",
   "metadata": {},
   "source": [
    "### Clonando um repositório remoto"
   ]
  },
  {
   "cell_type": "markdown",
   "metadata": {},
   "source": [
    "Agora vamos copiar os arquivos de um repositório remoto (GitHub) para nosso ambiente local.\n",
    "Vá até o GitHub no repositório do \"portal\", clique no botão \"Code\" e na aba \"Local\", em HTTPS é possivel ver um endereço https, copie-o. Abra um terminal em sua máquina, navegue até uma pasta onde deseje baixar o projeto, e execute o comando abaixo:"
   ]
  },
  {
   "cell_type": "markdown",
   "metadata": {},
   "source": [
    "````\n",
    "git clone [endereço copiado do GitHub] projeto_portal\n",
    "````"
   ]
  },
  {
   "cell_type": "markdown",
   "metadata": {},
   "source": [
    "No \"git clone\" normalmente passamos como parâmetro o endereço do repositório que queremos baixar e podemos informar o nome da pasta que deve ser criada para o repositório \"projeto_portal\".\n",
    "Caso você não informe o nome da pasta, será criada uma pasta com o nome do projeto \"portal\". Abra o VSCode local, abra a pasta que acabamos de baixar e veja que o arquivo \"index.html\" está do jeito que deixamos no VSCode Codespaces.\n",
    "Faça o seguinte teste, feche o VSCode local e apague a pasta \"projeto_portal\", agora execute o git clone sem informar o nome da pasta, conforme abaixo"
   ]
  },
  {
   "cell_type": "markdown",
   "metadata": {},
   "source": [
    "````\n",
    "git clone [endereço copiado do GitHub]\n",
    "````"
   ]
  },
  {
   "cell_type": "markdown",
   "metadata": {},
   "source": [
    "Abra o VSCode novamente e abra a pasta nova, perceba que o projeto foi baixado igualmente.\n",
    "Por ser distribuído o Git baixou todo o histórico do projeto no momento do \"git clone\", portanto nosso ambiente local está o mais independente possível do GitHub, mas discutiremos isso melhor mais a frente."
   ]
  }
 ],
 "metadata": {
  "language_info": {
   "name": "python"
  }
 },
 "nbformat": 4,
 "nbformat_minor": 2
}
