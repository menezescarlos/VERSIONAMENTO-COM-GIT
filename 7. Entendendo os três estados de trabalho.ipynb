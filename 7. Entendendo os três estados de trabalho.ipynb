{
 "cells": [
  {
   "cell_type": "markdown",
   "metadata": {},
   "source": [
    "### Entendendo os três estados de trabalho"
   ]
  },
  {
   "cell_type": "markdown",
   "metadata": {},
   "source": [
    "No VSCode crie um arquivo \"exemplo.html\" vazio mesmo, dentro da pasta \"portal\". Então vá ao terminal, na pasta \"portal\", e digite o comando abaixo"
   ]
  },
  {
   "cell_type": "markdown",
   "metadata": {},
   "source": [
    "````\n",
    "git status\n",
    "````"
   ]
  },
  {
   "cell_type": "markdown",
   "metadata": {},
   "source": [
    "Perceba que o git detectou uma mudança na pasta e que um novo arquivo foi criado no seu \"working directory\".\n",
    "Agora vamos colocar este arquivo em \"staging\", execute o comando abaixo"
   ]
  },
  {
   "cell_type": "markdown",
   "metadata": {},
   "source": [
    "````\n",
    "git add exemplo.html\n",
    "````"
   ]
  },
  {
   "cell_type": "markdown",
   "metadata": {},
   "source": [
    "E execute novamente o \"git status\" e veja que agora o arquivo está em \"staging\", pronto para entrar em um commit.\n",
    "Por último, vamos adicionar um \"commit\" ao nosso repositório, para que o arquivo seja salvo e fique seguro dentro da pasta \".git\".\n",
    "Então execute o comando abaixo:"
   ]
  },
  {
   "cell_type": "markdown",
   "metadata": {},
   "source": [
    "````\n",
    "git commit -m \"entendendos os estados dos arquivos\"\n",
    "````"
   ]
  },
  {
   "cell_type": "markdown",
   "metadata": {},
   "source": [
    "Este comando irá adicionar um commit e gravar uma mensagem \"entendendos os estados dos arquivos\", que é a mensagem que descreve o que está dentro do commit.\n",
    "Execute o comando \"git status\" novamente, perceberá que não existe mais nenhuma alteração dentro do \"working directory\" e \"staging\", ou seja, seu arquivo está salvo no histórico do projeto. Caso queira ver seu commit no histórico do projeto, use o comando \"git log\".\n",
    "Lembre-se que ainda estamos fazendo tudo localmente, seu commit não foi sincronizado com o GitHub ainda."
   ]
  }
 ],
 "metadata": {
  "language_info": {
   "name": "python"
  }
 },
 "nbformat": 4,
 "nbformat_minor": 2
}
