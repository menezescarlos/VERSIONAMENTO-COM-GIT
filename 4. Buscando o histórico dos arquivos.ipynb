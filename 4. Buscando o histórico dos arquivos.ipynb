{
 "cells": [
  {
   "cell_type": "markdown",
   "metadata": {},
   "source": [
    "### Buscando o histórico dos arquivos"
   ]
  },
  {
   "cell_type": "markdown",
   "metadata": {},
   "source": [
    "Abra o VSCode na pasta do projeto e abra o terminal. Agora digite o comando abaixo:"
   ]
  },
  {
   "cell_type": "markdown",
   "metadata": {},
   "source": [
    "````\n",
    "git log\n",
    "````"
   ]
  },
  {
   "cell_type": "markdown",
   "metadata": {},
   "source": [
    "Podemos ver os dois commits que fizemos, isso acontece porque quando fizemos \"git clone\" de um repositório, todo o histórico do projeto é copiado para nossa máquina.\n",
    "Assim podemos ver o comentário do commit, quem fez e quando fez, mas e se isso for muita informação? Se quisermos ver menos, apenas uma listagem? Aperta a tecla \"q\" para sair do git log.\n",
    "E digite o comando abaixo"
   ]
  },
  {
   "cell_type": "markdown",
   "metadata": {},
   "source": [
    "````\n",
    "git log --oneline\n",
    "````"
   ]
  },
  {
   "cell_type": "markdown",
   "metadata": {},
   "source": [
    "Assim conseguimos ter mais detalhes do commit, vendo os arquivos alterados. E se quisermos ver mais informações?\n"
   ]
  },
  {
   "cell_type": "markdown",
   "metadata": {},
   "source": [
    "````\n",
    "git log --patch\n",
    "````"
   ]
  },
  {
   "cell_type": "markdown",
   "metadata": {},
   "source": [
    "Este comando vai te mostrar os commits, arquivos e linhas alteradas no histórico do projeto."
   ]
  }
 ],
 "metadata": {
  "language_info": {
   "name": "python"
  }
 },
 "nbformat": 4,
 "nbformat_minor": 2
}
