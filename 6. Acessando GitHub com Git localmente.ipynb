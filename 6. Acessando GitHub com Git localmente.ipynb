{
 "cells": [
  {
   "cell_type": "markdown",
   "metadata": {},
   "source": [
    "### Acessando GitHub com Git localmente"
   ]
  },
  {
   "cell_type": "markdown",
   "metadata": {},
   "source": [
    "Agora vamos configurar o Git para que nossas alterações locais possam ser sincronizadas com o GitHub."
   ]
  },
  {
   "cell_type": "markdown",
   "metadata": {},
   "source": [
    "### Windows\n",
    "Abra o VSCode local, vá até a pasta do projeto \"portal\", então adicione um novo arquivo com o nome \"home.html\" na pasta raiz do projeto, com o seguinte conteúdo"
   ]
  },
  {
   "cell_type": "markdown",
   "metadata": {},
   "source": [
    "````\n",
    "<html>\n",
    "  <title>Laboratórios</title>\n",
    "  <body>\n",
    "    <ul>\n",
    "      <li>Git e GitHub</li>\n",
    "      <li>Docker e Kubernetes</li>\n",
    "    <ul>\n",
    "  </body>\n",
    "</html>\n",
    "````"
   ]
  },
  {
   "cell_type": "markdown",
   "metadata": {},
   "source": [
    "Agora abra o terminal do VSCode, que estará na pasta do projeto \"portal\" e execute os comandos abaixo"
   ]
  },
  {
   "cell_type": "markdown",
   "metadata": {},
   "source": [
    "````\n",
    "git add .\n",
    "git commit -m \"primeiro commit do terminal\"\n",
    "````"
   ]
  },
  {
   "cell_type": "markdown",
   "metadata": {},
   "source": [
    "Você acabou de criar um commit por linha de comando, vamos detalhar estes comandos mais a frente.\n",
    "Agora execute o comando abaixo no mesmo local, e uma pop-up do GitHub deve abrir pedindo para que você faça login, escolha a opção de login por usuário e senha, através do browser"
   ]
  },
  {
   "cell_type": "markdown",
   "metadata": {},
   "source": [
    "````\n",
    "git push\n",
    "````"
   ]
  },
  {
   "cell_type": "markdown",
   "metadata": {},
   "source": [
    "Se o comando não der erro seu commit estará no GitHub, para vê-lo, basta abrir o navegador e acessar seu repositório \"portal\"."
   ]
  },
  {
   "cell_type": "markdown",
   "metadata": {},
   "source": [
    "### Linux/MacOS\n",
    "Existem duas possibilidades de login no GitHub, usando um token de acesso gerado pelo site, que fica em usuário, na opção \"Settings\", depois na opção \"Developer Settings\" e por último \"Personal access token\", agora basta criar seu token e informar no git no campo de senha.\n",
    "Outra forma mais segura, é instalando o GitHub CLI pelo link https://github.com/cli/cli\n",
    "Após instalado, vá em um terminal e execute o comando abaixo, para validar se a instalação está correta. Este comando deve retornar a versão do GitHub CLI"
   ]
  },
  {
   "cell_type": "markdown",
   "metadata": {},
   "source": [
    "````\n",
    "gh --version\n",
    "````"
   ]
  },
  {
   "cell_type": "markdown",
   "metadata": {},
   "source": [
    "Então agora execute o comando abaixo e siga o passo a passo, informando que logará pelo GitHub.com, via HTTPS e se logará pelo navegador com usuário, senha e token"
   ]
  },
  {
   "cell_type": "markdown",
   "metadata": {},
   "source": [
    "````\n",
    "gh auth login\n",
    "````"
   ]
  },
  {
   "cell_type": "markdown",
   "metadata": {},
   "source": [
    "Depois de logado, vamos testar para ver se deu certo.\n",
    "Pelo VSCode local adicione um novo arquivo com o nome \"home.html\" na pasta raiz do projeto, com o seguinte conteúdo"
   ]
  },
  {
   "cell_type": "markdown",
   "metadata": {},
   "source": [
    "````\n",
    "<html>\n",
    "  <title>Laboratórios</title>\n",
    "  <body>\n",
    "    <ul>\n",
    "      <li>Git e GitHub</li>\n",
    "      <li>Docker e Kubernetes</li>\n",
    "    <ul>\n",
    "  </body>\n",
    "</html>\n",
    "````"
   ]
  },
  {
   "cell_type": "markdown",
   "metadata": {},
   "source": [
    "Abra o terminal e navegue até a pasta do projeto \"portal\" e execute os três comandos abaixo"
   ]
  },
  {
   "cell_type": "markdown",
   "metadata": {},
   "source": [
    "````\n",
    "git add .\n",
    "git commit -m \"primeiro commit do terminal\"\n",
    "git push\n",
    "````"
   ]
  },
  {
   "cell_type": "markdown",
   "metadata": {},
   "source": [
    "Se o comando não der erro seu commit estará no GitHub, para vê-lo, basta abrir o navegador e acessar seu repositório \"portal\"."
   ]
  }
 ],
 "metadata": {
  "language_info": {
   "name": "python"
  }
 },
 "nbformat": 4,
 "nbformat_minor": 2
}
