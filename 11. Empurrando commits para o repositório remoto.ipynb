{
 "cells": [
  {
   "cell_type": "markdown",
   "metadata": {},
   "source": [
    "### Empurrando commits para o repositório remoto"
   ]
  },
  {
   "cell_type": "markdown",
   "metadata": {},
   "source": [
    "Criamos alguns commits localmente, mas não levamos estes commits para o nosso repositório remoto no GitHub, portanto execute o seguinte comando"
   ]
  },
  {
   "cell_type": "markdown",
   "metadata": {},
   "source": [
    "````\n",
    "git log --oneline\n",
    "````"
   ]
  },
  {
   "cell_type": "markdown",
   "metadata": {},
   "source": [
    "Analise a saida do comando e perceba que o seu repositório está alguns commits a frente do GitHub, como saber isso?\n",
    "Veja que a marcação \"origin/HEAD\" está alguns commits atrás do que a marcação \"HEAD\" apenas. Isto significa que o repositório remoto está na versão \"origin/HEAD\" ainda e seu repositório local está na versão \"HEAD\".\n",
    "Então vamos sincroniza-los, aperte \"q\" para sair do \"git log\" e execute o comando abaixo"
   ]
  },
  {
   "cell_type": "markdown",
   "metadata": {},
   "source": [
    "````\n",
    "git push\n",
    "````"
   ]
  },
  {
   "cell_type": "markdown",
   "metadata": {},
   "source": [
    "Agora acesse seu repositório \"portal\" no GitHub e veja que as suas últimas alterações estão lá.\n",
    "Execute novamente o \"git log\" e veja como ficaram as marcações."
   ]
  }
 ],
 "metadata": {
  "language_info": {
   "name": "python"
  }
 },
 "nbformat": 4,
 "nbformat_minor": 2
}
