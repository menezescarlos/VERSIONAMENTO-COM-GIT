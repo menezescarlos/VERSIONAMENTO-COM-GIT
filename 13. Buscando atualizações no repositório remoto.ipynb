{
 "cells": [
  {
   "cell_type": "markdown",
   "metadata": {},
   "source": [
    "### Buscando atualizações no repositório remoto"
   ]
  },
  {
   "cell_type": "markdown",
   "metadata": {},
   "source": [
    "Agora imagine que você quer saber quais atualizações existem no repositório remoto, quer baixar elas, mas sem atrapalhar seu trabalho em andamento.\n",
    "Vamos simular esta situação. Acesse o GitHub novamente e altere o arquivo \"index.html\" conforme o conteúdo abaixo. Faça tudo pelo navegador e salve o commit, com a mensagem \"alterando novamente index.html pelo GitHub\"."
   ]
  },
  {
   "cell_type": "markdown",
   "metadata": {},
   "source": [
    "````\n",
    "<html>\n",
    "  <title>Assuntos Lab</title>\n",
    "  <body>\n",
    "    <ul>\n",
    "      <li>Git</li>\n",
    "      <li>GitHub</li>\n",
    "      <li>Automated Tests</li>\n",
    "      <li>Docker</li>\n",
    "    <ul>\n",
    "  </body>\n",
    "</html>\n",
    "````"
   ]
  },
  {
   "cell_type": "markdown",
   "metadata": {},
   "source": [
    "Agora voltamos a situação onde o repositório remoto está um commit a frente do nosso repositório local. Volte ao VSCode, vá até o terminal na pasta do projeto e execute"
   ]
  },
  {
   "cell_type": "markdown",
   "metadata": {},
   "source": [
    "````\n",
    "git fetch\n",
    "````"
   ]
  },
  {
   "cell_type": "markdown",
   "metadata": {},
   "source": [
    "E depois execute"
   ]
  },
  {
   "cell_type": "markdown",
   "metadata": {},
   "source": [
    "````\n",
    "git log --oneline main..origin/main\n",
    "````"
   ]
  },
  {
   "cell_type": "markdown",
   "metadata": {},
   "source": [
    "Podemos ver que existe um commit baixado, mas ainda não faz parte do nosso repositório local. Aperte \"q\" para sair.\n",
    "Isso acontece porque o Git, após o comando fetch, sabe que seu repositório local está um commit atrasado em relação ao remoto, inclusive já baixou o commit faltante, porém não \"mesclou\" com seu repositório local.\n",
    "É possível também detalhar o que está dentro do commit, com o comando abaixo"
   ]
  },
  {
   "cell_type": "markdown",
   "metadata": {},
   "source": [
    "````\n",
    "git diff main origin/main\n",
    "````"
   ]
  },
  {
   "cell_type": "markdown",
   "metadata": {},
   "source": [
    "Aperte \"q\" para sair.\n",
    "Agora execute o comando abaixo e verá que o commit será mesclado com os commits do repositório local do projeto."
   ]
  },
  {
   "cell_type": "markdown",
   "metadata": {},
   "source": [
    "````\n",
    "git pull\n",
    "````"
   ]
  },
  {
   "cell_type": "markdown",
   "metadata": {},
   "source": [
    "Feito! Execute o \"git log\" e veja todos os commits, veja também que o arquivo \"index.html\" está atualizado."
   ]
  }
 ],
 "metadata": {
  "language_info": {
   "name": "python"
  }
 },
 "nbformat": 4,
 "nbformat_minor": 2
}
