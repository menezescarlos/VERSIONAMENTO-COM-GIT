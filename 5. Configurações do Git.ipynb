{
 "cells": [
  {
   "cell_type": "markdown",
   "metadata": {},
   "source": [
    "### Configurações do Git"
   ]
  },
  {
   "cell_type": "markdown",
   "metadata": {},
   "source": [
    "Vamos definir algumas configurações que irão para o nossos commits.\n",
    "Estas configurações são importantes para que toda alteração nos arquivos feita por você seja identificada. Então execute os comandos abaixo, substituindo os valores pelo seu nome de usuário e seu e-mail cadastrado no GitHub"
   ]
  },
  {
   "cell_type": "markdown",
   "metadata": {},
   "source": [
    "````\n",
    "git config --global user.name \"SEU USUÁRIO GITHUB\"\n",
    "git config --global user.email \"SEU EMAIL GITHUB\"\n",
    "````"
   ]
  },
  {
   "cell_type": "markdown",
   "metadata": {},
   "source": [
    "Perceba que estamos definindo valores globais de configuração \"--global\", mas nada impede que futuramente possamos mudar estas configurações para repositórios específicos.\n",
    "Para alterar as configurações de um projeto especifico, basta navegar até a pasta do projeto e substituir o parâmetro \"--global\" por \"--local\".\n",
    "Para ver as configurações inseridas, basta executar o comando abaixo"
   ]
  },
  {
   "cell_type": "markdown",
   "metadata": {},
   "source": [
    "````\n",
    "git config --list\n",
    "````"
   ]
  },
  {
   "cell_type": "markdown",
   "metadata": {},
   "source": [
    "Pode ser que outras configurações globais e locais apareçam, porém as configurações que acabamos de informar também estão lá.\n",
    "Caso precise apagar uma variável basta executar"
   ]
  },
  {
   "cell_type": "markdown",
   "metadata": {},
   "source": [
    "````\n",
    "git config --global --unset user.name\n",
    "````"
   ]
  },
  {
   "cell_type": "markdown",
   "metadata": {},
   "source": [
    "Se precisar alterar estes valores, basta executar os primeiros comandos informando novos valores."
   ]
  }
 ],
 "metadata": {
  "language_info": {
   "name": "python"
  }
 },
 "nbformat": 4,
 "nbformat_minor": 2
}
