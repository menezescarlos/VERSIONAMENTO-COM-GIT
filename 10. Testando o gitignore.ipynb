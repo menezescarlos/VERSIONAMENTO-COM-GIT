{
 "cells": [
  {
   "cell_type": "markdown",
   "metadata": {},
   "source": [
    "### Testando o gitignore"
   ]
  },
  {
   "cell_type": "markdown",
   "metadata": {},
   "source": [
    "Na raiz do projeto, crie o arquivo chamado \".gitignore\". Este arquivo é da extensão \"gitignore\" e não possui nome, exatamente como descrito.\n",
    "Agora abra o arquivo e coloque o texto abaixo e salve"
   ]
  },
  {
   "cell_type": "markdown",
   "metadata": {},
   "source": [
    "````\n",
    "laboratorio/*\n",
    "robot.txt\n",
    "````"
   ]
  },
  {
   "cell_type": "markdown",
   "metadata": {},
   "source": [
    "Agora crie uma pasta chamada \"laboratorio\", coloque um arquivo qualquer dentro, e na raiz do projeto crie um arquivo chamado \"robot.txt\".\n",
    "Abra o terminal, navegue até a pasta do projeto e execute"
   ]
  },
  {
   "cell_type": "markdown",
   "metadata": {},
   "source": [
    "````\n",
    "git status\n",
    "````"
   ]
  },
  {
   "cell_type": "markdown",
   "metadata": {},
   "source": [
    "Perceba que o git está rastreando o arquivo \".gitignore\", inclusive ele fará parte do seu projeto, mas ele está ignorando os arquivos novos e a pasta que você acabou de criar.\n",
    "Fácil né? Agora execute o comando abaixo para adicionar o \".gitignore\" no projeto"
   ]
  },
  {
   "cell_type": "markdown",
   "metadata": {},
   "source": [
    "````\n",
    "git add .gitignore\n",
    "git commit -m \"arquivo .gitignore\"\n",
    "````"
   ]
  },
  {
   "cell_type": "markdown",
   "metadata": {},
   "source": [
    "Agora o .gitignore faz parte do seu projeto.\n",
    "Importante: depois que o arquivo estiver sendo rastreado não adianta colocar no .gitignore, ele precisa ser excluído também do repositório."
   ]
  }
 ],
 "metadata": {
  "language_info": {
   "name": "python"
  }
 },
 "nbformat": 4,
 "nbformat_minor": 2
}
