{
 "cells": [
  {
   "cell_type": "markdown",
   "metadata": {},
   "source": [
    "### Puxando commits do repositório remoto"
   ]
  },
  {
   "cell_type": "markdown",
   "metadata": {},
   "source": [
    "Agora imagine que um integrante do seu projeto está alterando outros arquivos, e subiu as alterações que fez para o repositório remoto. Como podemos nos atualizar dos novos commits?\n",
    "Vamos simular esta situação. Acesse o GitHub e altere o arquivo \"index.html\" conforme o conteúdo abaixo. Faça tudo pelo navegador e salve o commit, com a mensagem \"alterando index.html pelo GitHub\".\n",
    "\n",
    "<html>"
   ]
  },
  {
   "cell_type": "markdown",
   "metadata": {},
   "source": [
    "````\n",
    "<html>\n",
    "  <title>Assuntos Lab</title>\n",
    "  <body>\n",
    "    <ul>\n",
    "      <li>Git</li>\n",
    "      <li>GitHub</li>\n",
    "      <li>Automated Tests</li>\n",
    "    <ul>\n",
    "  </body>\n",
    "</html>\n",
    "````"
   ]
  },
  {
   "cell_type": "markdown",
   "metadata": {},
   "source": [
    "Agora estamos em uma situação onde o repositório remoto está um commit a frente do nosso repositório local. Volte ao VSCode, vá até o terminal na pasta do projeto e execute"
   ]
  },
  {
   "cell_type": "markdown",
   "metadata": {},
   "source": [
    "````\n",
    "git pull\n",
    "````"
   ]
  },
  {
   "cell_type": "markdown",
   "metadata": {},
   "source": [
    "E depois execute"
   ]
  },
  {
   "cell_type": "markdown",
   "metadata": {},
   "source": [
    "````\n",
    "git log --oneline\n",
    "````"
   ]
  },
  {
   "cell_type": "markdown",
   "metadata": {},
   "source": [
    "Agora o commit foi baixado para seu repositório local e estamos com a última versão dos arquivos. Tente executar os comandos \"git pull\" e \"git push\" novamente e veja que o Git não fará mais alterações, avisando que tudo está atualizado."
   ]
  }
 ],
 "metadata": {
  "language_info": {
   "name": "python"
  }
 },
 "nbformat": 4,
 "nbformat_minor": 2
}
