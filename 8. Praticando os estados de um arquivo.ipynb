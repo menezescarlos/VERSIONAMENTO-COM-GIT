{
 "cells": [
  {
   "cell_type": "markdown",
   "metadata": {},
   "source": [
    "### Praticando os estados de um arquivo"
   ]
  },
  {
   "cell_type": "markdown",
   "metadata": {},
   "source": [
    "Volte ao VSCode e execute o seguinte comando no terminal, perceba que não existem alterações"
   ]
  },
  {
   "cell_type": "markdown",
   "metadata": {},
   "source": [
    "````\n",
    "git status\n",
    "````"
   ]
  },
  {
   "cell_type": "markdown",
   "metadata": {},
   "source": [
    "Crie outro arquivo \"sobre.html\", com o conteúdo abaixo, volte ao terminal e execute \"git status\" novamente"
   ]
  },
  {
   "cell_type": "markdown",
   "metadata": {},
   "source": [
    "````\n",
    "<html>\n",
    "  <title>Laboratórios</title>\n",
    "  <body>\n",
    "    <div>Sobre</div>\n",
    "  </body>\n",
    "</html>\n",
    "````"
   ]
  },
  {
   "cell_type": "markdown",
   "metadata": {},
   "source": [
    "Este arquivo está presente na pasta, portanto o Git detecta isso, mas ainda não é arquivo indicado para ser versionado, então vamos adicioná-lo à área de \"staging\""
   ]
  },
  {
   "cell_type": "markdown",
   "metadata": {},
   "source": [
    "````\n",
    "git add sobre.html\n",
    "````"
   ]
  },
  {
   "cell_type": "markdown",
   "metadata": {},
   "source": [
    "Neste momento o arquivo está pronto para entrar em um commit, mas abra o arquivo e insira o conteúdo abaixo e salve"
   ]
  },
  {
   "cell_type": "markdown",
   "metadata": {},
   "source": [
    "````\n",
    "<html>\n",
    "  <title>Laboratórios</title>\n",
    "  <body>\n",
    "    <div>Sobre laboratórios</div>\n",
    "  </body>\n",
    "</html>\n",
    "````"
   ]
  },
  {
   "cell_type": "markdown",
   "metadata": {},
   "source": [
    "Volte para o terminal e execute \"git status\" novamente.\n",
    "Perceba que o arquivo agora está em dois estados, está no \"staging\" pronto para entrar no commit em sua versão inicial, mas a nova alteração que acabamos de fazer está no \"working directory\" ainda.\n",
    "Basta executar o comando abaixo e o git fará a comparação dos dois arquivos para você"
   ]
  },
  {
   "cell_type": "markdown",
   "metadata": {},
   "source": [
    "````\n",
    "git diff\n",
    "````"
   ]
  },
  {
   "cell_type": "markdown",
   "metadata": {},
   "source": [
    "Um recurso interessante do git é a capacidade de poder escolher exatamente qual versão do arquivo fará parte do seu commit. Pressione a tecla \"q\" para sair do \"git diff\" e execute o comando abaixo, para adicionar todas as alterações ao \"staging\""
   ]
  },
  {
   "cell_type": "markdown",
   "metadata": {},
   "source": [
    "````\n",
    "git add .\n",
    "````"
   ]
  },
  {
   "cell_type": "markdown",
   "metadata": {},
   "source": [
    "Este novo parâmetro do \"git add\" permite que todos os arquivos alterados ou adicionados no \"working directory\" sejam levados de uma vez para o \"staging\". Agora compare as alterações que estão em \"staging\" com seu repositório local"
   ]
  },
  {
   "cell_type": "markdown",
   "metadata": {},
   "source": [
    "````\n",
    "git diff --staged\n",
    "````"
   ]
  },
  {
   "cell_type": "markdown",
   "metadata": {},
   "source": [
    "Aperte \"q\" para sair do \"git diff\" e crie um commit com o arquivo em \"staging\""
   ]
  },
  {
   "cell_type": "markdown",
   "metadata": {},
   "source": [
    "````\n",
    "git commit -m \"página sobre\"\n",
    "````"
   ]
  }
 ],
 "metadata": {
  "language_info": {
   "name": "python"
  }
 },
 "nbformat": 4,
 "nbformat_minor": 2
}
