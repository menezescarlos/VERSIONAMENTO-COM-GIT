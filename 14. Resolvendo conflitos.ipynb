{
 "cells": [
  {
   "cell_type": "markdown",
   "metadata": {},
   "source": [
    "### Resolvendo conflitos"
   ]
  },
  {
   "cell_type": "markdown",
   "metadata": {},
   "source": [
    "Vamos simular um cenário onde alguém do seu time alterou um arquivo e subiu no repositório remoto, mas você também fez alterações neste arquivo.\n",
    "Vá no projeto no GitHub pelo navegador, altere o arquivo \"home.html\", conforme abaixo, e crie um commit"
   ]
  },
  {
   "cell_type": "markdown",
   "metadata": {},
   "source": [
    "````\n",
    "<html>\n",
    "  <title>Laboratórios</title>\n",
    "  <body>\n",
    "    <ul>\n",
    "      <li>Git e GitHub</li>\n",
    "      <li>Docker e Kubernetes</li>\n",
    "      <li>Automated Tests</li>\n",
    "    <ul>\n",
    "  </body>\n",
    "</html>\n",
    "````"
   ]
  },
  {
   "cell_type": "markdown",
   "metadata": {},
   "source": [
    "Agora vá para o VSCode e altere o mesmo arquivo conforme conteúdo abaixo"
   ]
  },
  {
   "cell_type": "markdown",
   "metadata": {},
   "source": [
    "````\n",
    "<html>\n",
    "  <title>Laboratórios</title>\n",
    "  <body>\n",
    "    <ul>\n",
    "      <li>Git e GitHub</li>\n",
    "      <li>Docker e Kubernetes</li>\n",
    "      <li>DDD</li>\n",
    "    <ul>\n",
    "  </body>\n",
    "</html>\n",
    "````"
   ]
  },
  {
   "cell_type": "markdown",
   "metadata": {},
   "source": [
    "Agora crie um commit da sua alteração no terminal com os comandos que já conhecemos"
   ]
  },
  {
   "cell_type": "markdown",
   "metadata": {},
   "source": [
    "````\n",
    "git add home.html\n",
    "git commit -m \"alterando home.html\"\n",
    "````"
   ]
  },
  {
   "cell_type": "markdown",
   "metadata": {},
   "source": [
    "Tente subir seu commit para o repositório remoto"
   ]
  },
  {
   "cell_type": "markdown",
   "metadata": {},
   "source": [
    "````\n",
    "git push\n",
    "````"
   ]
  },
  {
   "cell_type": "markdown",
   "metadata": {},
   "source": [
    "Não deixou certo? Precisamos atualizar nosso repositório local, resolver o conflito, para então subirmos uma versão da nossa aplicação.\n",
    "Execute o comando abaixo"
   ]
  },
  {
   "cell_type": "markdown",
   "metadata": {},
   "source": [
    "````\n",
    "git pull\n",
    "````"
   ]
  },
  {
   "cell_type": "markdown",
   "metadata": {},
   "source": [
    "Agora os commits novos vieram para o seu repositório, mas o arquivo \"home.html\" está com conflito que precisa ser resolvido.\n",
    "Abra o arquivo e veja que ele indica duas versões para a mesma linha, uma que está local e outra que está vindo do repositório remoto.\n",
    "Vamos querer ambas, então edite o arquivo deixando ambas as linhas conforme abaixo e salve"
   ]
  },
  {
   "cell_type": "markdown",
   "metadata": {},
   "source": [
    "````\n",
    "<html>\n",
    "  <title>Laboratórios</title>\n",
    "  <body>\n",
    "    <ul>\n",
    "      <li>Git e GitHub</li>\n",
    "      <li>Docker e Kubernetes</li>\n",
    "      <li>DDD</li>\n",
    "      <li>Automated Tests</li>\n",
    "    <ul>\n",
    "  </body>\n",
    "</html>\n",
    "````"
   ]
  },
  {
   "cell_type": "markdown",
   "metadata": {},
   "source": [
    "Agora vamos indicar para o Git que resolvemos o conflito com o \"git add\", depois vamos criar um commit e subir tudo para o repositório remoto. Então execute os comandos abaixo"
   ]
  },
  {
   "cell_type": "markdown",
   "metadata": {},
   "source": [
    "````\n",
    "git add home.html\n",
    "git commit -m \"resolvendo conflito\"\n",
    "git push\n",
    "````"
   ]
  },
  {
   "cell_type": "markdown",
   "metadata": {},
   "source": [
    "Pronto! Veja como ficou o histórico com o \"git log\" e que as alterações estão no GitHub."
   ]
  }
 ],
 "metadata": {
  "language_info": {
   "name": "python"
  }
 },
 "nbformat": 4,
 "nbformat_minor": 2
}
