{
 "cells": [
  {
   "cell_type": "markdown",
   "metadata": {},
   "source": [
    "### Trabalhando em times organizadamente"
   ]
  },
  {
   "cell_type": "markdown",
   "metadata": {},
   "source": [
    "Quando estamos trabalhando em times precisamos lembrar o fluxo correto para subir nossas alterações.\n",
    "Faça o seguinte fluxo, abra o VSCode, altere o arquivo \"index.html\" conforme abaixo e salve-o"
   ]
  },
  {
   "cell_type": "markdown",
   "metadata": {},
   "source": [
    "````\n",
    "<html>\n",
    "  <title>Disciplinas da pós</title>\n",
    "  <body>\n",
    "    <ul>\n",
    "      <li>AS</li>\n",
    "      <li>Full</li>\n",
    "      <li>ES</li>\n",
    "    <ul>\n",
    "  </body>\n",
    "</html>\n",
    "````"
   ]
  },
  {
   "cell_type": "markdown",
   "metadata": {},
   "source": [
    "Agora vá no GitHub, e altere o mesmo arquivo para o conteúdo abaixo criando um commit"
   ]
  },
  {
   "cell_type": "markdown",
   "metadata": {},
   "source": [
    "````\n",
    "<html>\n",
    "  <title>Disciplinas da pós</title>\n",
    "  <body>\n",
    "    <ul>\n",
    "      <li>Arquitetura de solução</li>\n",
    "      <li>Fullstack developer</li>\n",
    "      <li>Engenharia de Software</li>\n",
    "    <ul>\n",
    "  </body>\n",
    "</html>\n",
    "````"
   ]
  },
  {
   "cell_type": "markdown",
   "metadata": {},
   "source": [
    "Lembre-se que quando trabalhamos em times isso pode acontecer o tempo todo, então antes de criar nosso commit, devemos validar se existem atualizações no repositório de origem, com o comando abaixo"
   ]
  },
  {
   "cell_type": "markdown",
   "metadata": {},
   "source": [
    "````\n",
    "git fetch\n",
    "````"
   ]
  },
  {
   "cell_type": "markdown",
   "metadata": {},
   "source": [
    "Caso hajam atualizações \"git status\" podemos trazer os commits para nosso repositório local, fazendo merge com nosso trabalho, mas antes podemos criar um stash do nosso trabalho"
   ]
  },
  {
   "cell_type": "markdown",
   "metadata": {},
   "source": [
    "````\n",
    "git stash\n",
    "git pull\n",
    "````"
   ]
  },
  {
   "cell_type": "markdown",
   "metadata": {},
   "source": [
    "Agora podemos trazer nosso stash de volta para o \"working directory\", com o comando abaixo"
   ]
  },
  {
   "cell_type": "markdown",
   "metadata": {},
   "source": [
    "````\n",
    "git stash pop\n",
    "````"
   ]
  },
  {
   "cell_type": "markdown",
   "metadata": {},
   "source": [
    "Esta sequência de comandos devem ser feitos várias vezes durante o dia mantendo sempre seu repositório o mais atualizado possivel. Agora precisamos fazer merge, garantir que o código está sem erros (compilação, execução de testes automatizados, etc) e depois gerar o seu commit, executando os comandos abaixo"
   ]
  },
  {
   "cell_type": "markdown",
   "metadata": {},
   "source": [
    "````\n",
    "git add .\n",
    "git commit -m \"commit trabalhando em equipe\"\n",
    "git push\n",
    "````"
   ]
  },
  {
   "cell_type": "markdown",
   "metadata": {},
   "source": [
    "Agora sim estou garantindo que meu trabalho está integrando com os outros. Podemos limpar o stash com o comando abaixo"
   ]
  },
  {
   "cell_type": "markdown",
   "metadata": {},
   "source": [
    "````\n",
    "git stash drop\n",
    "````"
   ]
  },
  {
   "cell_type": "markdown",
   "metadata": {},
   "source": [
    "Este é um fluxo de trabalho precavido e que não sujará o histórico do projeto, além de não correr o risco de você perder algum trabalho feito.\n",
    "Importante: a criação do stash fica a seu critério, é possivel fazer o merge diretamente sem o stash. Basta executar o \"git pull\" e resolver os problemas que ocorrerem direto no \"working directory\"."
   ]
  }
 ],
 "metadata": {
  "language_info": {
   "name": "python"
  }
 },
 "nbformat": 4,
 "nbformat_minor": 2
}
