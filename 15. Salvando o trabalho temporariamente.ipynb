{
 "cells": [
  {
   "cell_type": "markdown",
   "metadata": {},
   "source": [
    "### Salvando o trabalho temporariamente"
   ]
  },
  {
   "cell_type": "markdown",
   "metadata": {},
   "source": [
    "Imagine que estamos trabalhando em uma funcionalidade do nosso sistema, porém ainda não terminamos, e precisamos interromper sua codificação para iniciar outra atividade, existe uma funcionalidade no Git para nos ajudar.\n",
    "Vamos testá-la, comece alterando o arquivo \"index.html\" conforme abaixo:"
   ]
  },
  {
   "cell_type": "markdown",
   "metadata": {},
   "source": [
    "````\n",
    "<html>\n",
    "  <title>Assuntos Lab</title>\n",
    "  <body>\n",
    "    <ul>\n",
    "      <li>Git</li>\n",
    "      <li>GitHub</li>\n",
    "      <li>Automated tests</li>\n",
    "      <li>Docker</li>\n",
    "      <li>Ansible</li>\n",
    "      <li>Terraform</li>\n",
    "    <ul>\n",
    "  </body>\n",
    "</html>\n",
    "````"
   ]
  },
  {
   "cell_type": "markdown",
   "metadata": {},
   "source": [
    "Agora adicione o arquivo no \"staging\" com o comando abaixo"
   ]
  },
  {
   "cell_type": "markdown",
   "metadata": {},
   "source": [
    "````\n",
    "git add .\n",
    "````"
   ]
  },
  {
   "cell_type": "markdown",
   "metadata": {},
   "source": [
    "Agora altere o arquivo novamente conforme abaixo e salve-o"
   ]
  },
  {
   "cell_type": "markdown",
   "metadata": {},
   "source": [
    "````\n",
    "<html>\n",
    "  <title>Assuntos Lab</title>\n",
    "  <body>\n",
    "    <ul>\n",
    "      <li>Git</li>\n",
    "      <li>GitHub</li>\n",
    "      <li>Automated tests</li>\n",
    "      <li>Docker</li>\n",
    "      <li>Ansible</li>\n",
    "      <li>Terraform</li>\n",
    "      <li>Kubernetes</li>\n",
    "    <ul>\n",
    "  </body>\n",
    "</html>\n",
    "````"
   ]
  },
  {
   "cell_type": "markdown",
   "metadata": {},
   "source": [
    "Temos agora o mesmo arquivo em dois estados alterado no \"working directory\" e no \"staging\", vamos salvar o nosso arquivo em stash, execute o comando abaixo"
   ]
  },
  {
   "cell_type": "markdown",
   "metadata": {},
   "source": [
    "````\n",
    "git stash --message=\"meu primeiro stash\"\n",
    "````"
   ]
  },
  {
   "cell_type": "markdown",
   "metadata": {},
   "source": [
    "Nossas alterações foram salvas no stash, se você executar \"git status\" vai perceber que as alterações nos arquivos sumiram. Para listar os stash existentes, basta executar o comando abaixo"
   ]
  },
  {
   "cell_type": "markdown",
   "metadata": {},
   "source": [
    "````\n",
    "git stash list\n",
    "````"
   ]
  },
  {
   "cell_type": "markdown",
   "metadata": {},
   "source": [
    "Para sair da tela do stash, aperte a tecla \"q\". Caso queira trazer as alterações do stash para o \"working directory\" basta executar o comando abaixo"
   ]
  },
  {
   "cell_type": "markdown",
   "metadata": {},
   "source": [
    "````\n",
    "git stash pop\n",
    "````"
   ]
  },
  {
   "cell_type": "markdown",
   "metadata": {},
   "source": [
    "Perceba que as alterações feitas voltaram para o código no \"working directory\". Agora execute o comando abaixo, para adicionar o arquivo diretamente ao commit sem passar pelo \"working directory\""
   ]
  },
  {
   "cell_type": "markdown",
   "metadata": {},
   "source": [
    "````\n",
    "git commit -a -m \"criando commit direto\"\n",
    "````"
   ]
  },
  {
   "cell_type": "markdown",
   "metadata": {},
   "source": [
    "Este comando pegará todos os arquivos alterados e criará um commit. Cuidado com ele! Importante: o comando \"git commit -a\" só funciona para arquivos modificados, arquivos novos precisam do \"git add\"."
   ]
  }
 ],
 "metadata": {
  "language_info": {
   "name": "python"
  }
 },
 "nbformat": 4,
 "nbformat_minor": 2
}
