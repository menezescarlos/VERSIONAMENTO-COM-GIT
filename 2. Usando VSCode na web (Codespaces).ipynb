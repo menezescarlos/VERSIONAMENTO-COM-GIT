{
 "cells": [
  {
   "cell_type": "markdown",
   "metadata": {},
   "source": [
    "### Usando VSCode na web (Codespaces)"
   ]
  },
  {
   "cell_type": "markdown",
   "metadata": {},
   "source": [
    "Agora vá ao repositório do \"portal\", que acabamos de criar, e repare que existe um botão chamado \"Code\", ao clicar nele aparecerá uma aba chamada \"Codespaces\", e ao clicar nesta aba, você verá um botão chamado \"Create codespace on main\", clique nele e aguarde o VSCode abrir.\n",
    "Repare que temos o terminal aberto na parte debaixo da janela, vá até o terminal e digite:"
   ]
  },
  {
   "cell_type": "markdown",
   "metadata": {},
   "source": [
    "```htm\n",
    "git --version\n",
    "```"
   ]
  },
  {
   "cell_type": "markdown",
   "metadata": {},
   "source": [
    "Portanto temos o git já instalado em nosso VSCode Web, e do lado esquerdo no menu lateral embaixo do botão de pesquisa, existe um botão que nos leva a uma tela que facilita a interação com o Git, chamada \"Source Control\".\n",
    "Abra nosso arquivo HTML anterior e vamos alterá-lo para o conteúdo abaixo"
   ]
  },
  {
   "cell_type": "markdown",
   "metadata": {},
   "source": [
    "```htm\n",
    "<html>\n",
    "  <title>Assuntos Lab</title>\n",
    "  <body>\n",
    "    <ul>\n",
    "      <li>Git</li>\n",
    "      <li>GitHub</li>\n",
    "    <ul>\n",
    "  </body>\n",
    "</html>\n",
    "```"
   ]
  },
  {
   "cell_type": "markdown",
   "metadata": {},
   "source": [
    "Depois de alterar o arquivo, perceba que do lado esquerdo no menu lateral, o icone do \"Source Control\" está com o número \"1\". Isso significa que um arquivo que o Git está monitorando foi alterado, entre na tela de \"Source Control\".\n",
    "Clique no simbolo de \"+\", adicione a seguinte mensagem \"commit codespaces\", clique no botão \"Commit\" e depois clique no mesmo botão com o texto \"Sync Changes\" e em \"OK\".\n",
    "Excelente!!! Fizemos o nosso segundo commit no repositório. Volte para a aba do GitHub, onde ficou aberto nosso repositório e atualize a página.\n",
    "Veja que seus dois commits estão registrados no Git."
   ]
  }
 ],
 "metadata": {
  "language_info": {
   "name": "python"
  }
 },
 "nbformat": 4,
 "nbformat_minor": 2
}
