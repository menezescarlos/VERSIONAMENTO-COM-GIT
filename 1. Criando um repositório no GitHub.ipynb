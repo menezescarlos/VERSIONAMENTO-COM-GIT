{
 "cells": [
  {
   "cell_type": "markdown",
   "metadata": {},
   "source": [
    "### Criando um repositório no GitHub"
   ]
  },
  {
   "cell_type": "markdown",
   "metadata": {},
   "source": [
    "Vamos acessar a nossa conta já criada no GitHub, e criar um repositório público. Para isso, acesse www.github.com, faça login com suas credenciais.\n",
    "Após logado, vá na tela de \"Repositories\", procure um botão escrito \"New\" e clique nele, a tela de criação de repositório irá requisitar duas principais informações, nome do repositório e a visibilidade dele.\n",
    "Coloque o nome do repositório de \"portal\" e a visibilidade para \"Public\", depois clique em \"Create repository\".\n",
    "Agora temos nosso primeiro repositório Git no GitHub, e podemos adicionar arquivos a ele.\n",
    "Várias informações que podem ser confusas no primeiro acesso irão aparecer, após criar o repositório, procure por um link na tela chamado \"creating new file\" e clique nele.\n",
    "Uma tela de edição de arquivo será exibida, dê o seguinte nome para o arquivo \"index.html\" e cole o código abaixo no campo do conteúdo.\n",
    "\n"
   ]
  },
  {
   "cell_type": "markdown",
   "metadata": {},
   "source": [
    "```htm\n",
    "<html>\n",
    "  <body>\n",
    "    <div>teste 1</div>\n",
    "  </body>\n",
    "</html>\n",
    "```"
   ]
  },
  {
   "cell_type": "markdown",
   "metadata": {},
   "source": [
    "Vá até o final da tela e veja que temos um campo chamado \"commit\", onde iremos inserir uma descrição para as alterações que estamos fazendo.\n",
    "Coloque no campo descrição do commit \"primeiro arquivo do projeto\" e depois clique em \"Commit new file\".\n",
    "O código criado não importa tanto, mas perceba que já estamos interagindo com o Git.\n",
    "Acabamos de criar nosso primeiro arquivo na plataforma de GitHub!"
   ]
  }
 ],
 "metadata": {
  "language_info": {
   "name": "python"
  }
 },
 "nbformat": 4,
 "nbformat_minor": 2
}
